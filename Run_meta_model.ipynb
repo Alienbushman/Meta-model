{
 "cells": [
  {
   "cell_type": "code",
   "execution_count": 1,
   "metadata": {},
   "outputs": [
    {
     "name": "stdout",
     "output_type": "stream",
     "text": [
      "The correlation coefficients\n",
      "0.9368695289869061\n",
      "0.9195554742919462\n",
      "0.9744109164765465\n",
      "0.8199899309610421\n",
      "0.841324144349242\n",
      "0.4801510811872431\n",
      "0.8767118157101209\n",
      "0.8581332833851055\n",
      "0.9423822300036238\n",
      "0.872792923109033\n",
      "0.89777073903019\n",
      "The Kendall Tau ranking\n",
      "0.7333333333333333\n",
      "0.7777777777777777\n",
      "0.8666666666666666\n",
      "0.4666666666666666\n",
      "0.6888888888888888\n",
      "0.4666666666666666\n",
      "0.6444444444444444\n",
      "0.5555555555555555\n",
      "0.5555555555555555\n",
      "0.4666666666666666\n",
      "0.6444444444444444\n",
      "section completed\n"
     ]
    }
   ],
   "source": [
    "import numpy\n",
    "import pandas as pd\n",
    "from scipy.stats import kendalltau\n",
    "from codebase.meta_model import preprocessing, label_feature_split, analyse_generic_models_regression, split_dataset\n",
    "from codebase.generic_processing import dataset_name_generator\n",
    "\n",
    "NOISE = 0.2\n",
    "N_SAMPLES = 1000\n",
    "NUMBER_DATASETS = 10\n",
    "\n",
    "numpy.random.seed(42)\n",
    "\n",
    "dataset_name = dataset_name_generator(noise=NOISE, n_samples=N_SAMPLES, number_datasets=NUMBER_DATASETS)\n",
    "directory = 'toy_datasets/ran_datasets/' + dataset_name + '.csv'\n",
    "dataset_names = dataset_name + '_seed_'\n",
    "\n",
    "dataset_df = pd.read_csv(directory)\n",
    "target_feature = 'MAE'\n",
    "processed_features_df = preprocessing(dataset_df, target_feature, bad_columns=['MSE', 'r2', 'mean', 'actual_sum'],\n",
    "                                      using_xgboost=False)\n",
    "\n",
    "kendalltau_results = []\n",
    "coefficient_results = []\n",
    "correlation_coefficient = []\n",
    "# For each model training a meta-model and storing the correlation coefficient\n",
    "for i in range((NUMBER_DATASETS + 1)):\n",
    "    train_df, validation_df = split_dataset(processed_features_df, dataset_names + str(i))\n",
    "    X_train, y_train = label_feature_split(train_df, target_feature)\n",
    "    X_validation, y_validation = label_feature_split(validation_df, target_feature)\n",
    "    analyse_df, correlation_coefficient = analyse_generic_models_regression(X_train, y_train, X_validation,\n",
    "                                                                            y_validation)\n",
    "\n",
    "    analyse_df = analyse_df.sort_values(by=['predicted_result'])\n",
    "    analyse_df['predicted_rankings'] = analyse_df.reset_index().index.values\n",
    "    analyse_df = analyse_df.sort_values(by=['actual_result'])\n",
    "    analyse_df['actual_rankings'] = analyse_df.reset_index().index.values\n",
    "    coefficient_results.append(correlation_coefficient)\n",
    "    kendalltau_results.append(kendalltau(analyse_df['predicted_rankings'], analyse_df['actual_rankings'])[0])\n",
    "\n",
    "print('The correlation coefficients')\n",
    "for coefficient in coefficient_results:\n",
    "    print(coefficient)\n",
    "print('The Kendall Tau ranking')\n",
    "for kendalltau_output in kendalltau_results:\n",
    "    print(kendalltau_output)\n",
    "print('section completed')\n"
   ]
  }
 ],
 "metadata": {
  "kernelspec": {
   "display_name": "Python 3",
   "language": "python",
   "name": "python3"
  },
  "language_info": {
   "codemirror_mode": {
    "name": "ipython",
    "version": 3
   },
   "file_extension": ".py",
   "mimetype": "text/x-python",
   "name": "python",
   "nbconvert_exporter": "python",
   "pygments_lexer": "ipython3",
   "version": "3.8.5"
  }
 },
 "nbformat": 4,
 "nbformat_minor": 4
}
