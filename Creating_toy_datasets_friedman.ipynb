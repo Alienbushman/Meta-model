{
 "cells": [
  {
   "cell_type": "code",
   "execution_count": 1,
   "metadata": {},
   "outputs": [],
   "source": [
    "import os\n",
    "import numpy as np\n",
    "import pandas as pd\n",
    "from codebase.generate_datasets import generate_friedmen_ranges\n",
    "from codebase.generic_processing import dataset_name_generator\n",
    "\n",
    "RANDOM_STATE = 42\n",
    "N_SAMPLES = 1000\n",
    "NUMBER_DATASETS = 10\n",
    "NOISE = 0.2\n",
    "WINDOW_SIZE = 2\n",
    "SHIFT_DATASET = 0\n",
    "\n",
    "np.random.seed(RANDOM_STATE)\n",
    "\n",
    "# Generates a friendman dataset\n",
    "X, y = generate_friedmen_ranges(number_datasets=NUMBER_DATASETS, n_samples=N_SAMPLES,\n",
    "                                window_size=WINDOW_SIZE, noise=NOISE,\n",
    "                                shift_dataset=SHIFT_DATASET)\n",
    "# Converst the data to dataframes to be exported\n",
    "all_datasets = []\n",
    "for data, target in zip(X, y):\n",
    "    dataset = pd.DataFrame({'0': data[:, 0], '1': data[:, 1], '2': data[:, 2], '3': data[:, 3]})\n",
    "    dataset['target'] = target\n",
    "    all_datasets.append(dataset)\n",
    "    \n",
    "dataset_name = dataset_name_generator(noise=NOISE, window_size=WINDOW_SIZE, shift_dataset=SHIFT_DATASET, n_samples=N_SAMPLES, number_datasets=NUMBER_DATASETS)\n",
    "\n",
    "# saves the dataframes to a direcotry\n",
    "directory = 'toy_datasets/' + dataset_name\n",
    "if not os.path.exists(directory):\n",
    "    os.makedirs(directory)\n",
    "for i in range(NUMBER_DATASETS + 1):\n",
    "    all_datasets[i].to_csv(directory + '/' + dataset_name + '_seed_' + str(i) + '.csv')\n"
   ]
  }
 ],
 "metadata": {
  "kernelspec": {
   "display_name": "Python 3",
   "language": "python",
   "name": "python3"
  },
  "language_info": {
   "codemirror_mode": {
    "name": "ipython",
    "version": 3
   },
   "file_extension": ".py",
   "mimetype": "text/x-python",
   "name": "python",
   "nbconvert_exporter": "python",
   "pygments_lexer": "ipython3",
   "version": "3.8.5"
  }
 },
 "nbformat": 4,
 "nbformat_minor": 4
}
