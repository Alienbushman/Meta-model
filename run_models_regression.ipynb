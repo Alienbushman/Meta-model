{
 "cells": [
  {
   "cell_type": "code",
   "execution_count": null,
   "metadata": {},
   "outputs": [],
   "source": [
    "import os\n",
    "import glob\n",
    "import pandas as pd\n",
    "from codebase.running_models import run_datasets, split_into_bins, distance_metrics, model_data,  get_name\n",
    "from codebase.generic_processing import dataset_name_generator\n",
    "\n",
    "dataset_name = dataset_name_generator(noise=0.1)\n",
    "# run_dataset = 'friedman_10_noise_' + str(.1) + '_window_size_2'\n",
    "directory = 'toy_datasets/' + dataset_name\n",
    "result = glob.glob(directory + '/*.csv')\n",
    "result.sort()\n",
    "dataset_names = result\n",
    "features = ['0', '1', '2', '3']\n",
    "for train_dataset_name in dataset_names:\n",
    "    for target_dataset_name in dataset_names:\n",
    "        if train_dataset_name != target_dataset_name:\n",
    "            df_train = pd.read_csv(train_dataset_name)\n",
    "            df_target = pd.read_csv(target_dataset_name)\n",
    "\n",
    "            reporter_objects = []\n",
    "            reporter_object = model_data(train_dataset_name, target_dataset_name)\n",
    "            for _ in range(1000):\n",
    "                reporter_objects.append(model_data(get_name(train_dataset_name), get_name(target_dataset_name)))\n",
    "\n",
    "            i = 0\n",
    "            apply_processing_posibilities = [False]\n",
    "\n",
    "            for apply_preprocessing in apply_processing_posibilities:\n",
    "                for feature in features:\n",
    "                    count, mean, std, bins = split_into_bins(df_train, column=feature)\n",
    "                    reporter_objects[i].std_train.append(std)\n",
    "                    reporter_objects[i].mean_train.append(mean)\n",
    "                    reporter_objects[i].count_train.append(count)\n",
    "                    reporter_objects[i].bins_train.append(bins)\n",
    "\n",
    "                    count, mean, std, bins = split_into_bins(df_target, column=feature)\n",
    "                    reporter_objects[i].std_test.append(std)\n",
    "                    reporter_objects[i].mean_test.append(mean)\n",
    "                    reporter_objects[i].count_test.append(count)\n",
    "                    reporter_objects[i].bins_test.append(bins)\n",
    "\n",
    "                    kl_divergence, wasserstein_distance_result, hellinger_distance, ks_test_result = distance_metrics(\n",
    "                        df_train, df_target, column=feature)\n",
    "                    reporter_objects[i].kl_divergence.append(kl_divergence)\n",
    "                    reporter_objects[i].wasserstein_distance.append(wasserstein_distance_result)\n",
    "                    reporter_objects[i].hellinger_distance.append(hellinger_distance)\n",
    "                    reporter_objects[i].ks_test.append(ks_test_result)\n",
    "\n",
    "                reporter_objects[i] = run_datasets(df_train, df_target, target='target',\n",
    "                                                   apply_preprocessing=apply_preprocessing,\n",
    "                                                   reporter_object=reporter_objects[i])\n",
    "                # reporter_objects[i].print_model_details()\n",
    "                i += 1\n",
    "            for j in range(i):\n",
    "                if not os.path.exists('toy_datasets/ran_datasets/'):\n",
    "                    os.makedirs('toy_datasets/ran_datasets/')\n",
    "                # reporter_objects[j].print_model_details()\n",
    "                reporter_objects[j].output_to_csv('toy_datasets/ran_datasets/' + dataset_name + '.csv', features)\n",
    "print('Models ran')\n"
   ]
  },
  {
   "cell_type": "code",
   "execution_count": null,
   "metadata": {},
   "outputs": [],
   "source": []
  },
  {
   "cell_type": "code",
   "execution_count": null,
   "metadata": {},
   "outputs": [],
   "source": []
  }
 ],
 "metadata": {
  "kernelspec": {
   "display_name": "Python 3",
   "language": "python",
   "name": "python3"
  },
  "language_info": {
   "codemirror_mode": {
    "name": "ipython",
    "version": 3
   },
   "file_extension": ".py",
   "mimetype": "text/x-python",
   "name": "python",
   "nbconvert_exporter": "python",
   "pygments_lexer": "ipython3",
   "version": "3.8.5"
  }
 },
 "nbformat": 4,
 "nbformat_minor": 4
}
