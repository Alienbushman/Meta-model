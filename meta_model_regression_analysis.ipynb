{
 "cells": [
  {
   "cell_type": "code",
   "execution_count": 2,
   "metadata": {},
   "outputs": [
    {
     "name": "stdout",
     "output_type": "stream",
     "text": [
      "starting with section 0.1\n",
      "coeficients\n",
      "0.9883287439870454\n",
      "0.9484842668711203\n",
      "0.9373961584841718\n",
      "0.8886366490684522\n",
      "0.9827447972886586\n",
      "0.989164534292048\n",
      "0.9850722290363244\n",
      "0.994150262697869\n",
      "0.9717375379288073\n",
      "0.9985100766337849\n",
      "0.9896818390092712\n",
      "klenditau output\n",
      "0.8787878787878787\n",
      "0.8909090909090909\n",
      "0.769230769230769\n",
      "0.6969696969696969\n",
      "0.7878787878787877\n",
      "0.8181818181818181\n",
      "0.8181818181818181\n",
      "0.8484848484848484\n",
      "0.7878787878787877\n",
      "0.909090909090909\n",
      "0.8787878787878787\n",
      "section completed\n"
     ]
    }
   ],
   "source": [
    "import numpy\n",
    "import pandas as pd\n",
    "from scipy.stats import kendalltau\n",
    "from codebase.meta_model import preprocessing, label_feature_split, analyse_generic_models_regression, split_dataset\n",
    "from codebase.generic_processing import dataset_name_generator\n",
    "\n",
    "NOISE=0.1\n",
    "correlation_coefficient = []\n",
    "dataset_name = dataset_name_generator(noise=NOISE)\n",
    "directory = 'toy_datasets/ran_datasets/' + dataset_name + '.csv'\n",
    "dataset_names = dataset + '_seed_'\n",
    "numpy.random.seed(42)\n",
    "dataset = pd.read_csv(directory)\n",
    "target = 'MAE'\n",
    "processed_features_df = preprocessing(dataset, target, bad_columns=['MSE', 'r2', 'mean', 'actual_sum'],\n",
    "                                      using_xgboost=False)\n",
    "\n",
    "kendalltau_results = []\n",
    "coefficient_results = []\n",
    "for i in range(11):\n",
    "    train_df, validation_df = split_dataset(processed_features_df, dataset_names + str(i))\n",
    "    X_train, y_train = label_feature_split(train_df, target)\n",
    "    X_validation, y_validation = label_feature_split(validation_df, target)\n",
    "    analyse_df, correlation_coefficient = analyse_generic_models_regression(X_train, y_train, X_validation, y_validation)\n",
    "\n",
    "    analyse_df = analyse_df.sort_values(by=['predicted_result'])\n",
    "    analyse_df['predicted_rankings'] = analyse_df.reset_index().index.values\n",
    "    analyse_df = analyse_df.sort_values(by=['actual_result'])\n",
    "    analyse_df['actual_rankings'] = analyse_df.reset_index().index.values\n",
    "    coefficient_results.append(correlation_coefficient)\n",
    "    kendalltau_results.append(kendalltau(analyse_df['predicted_rankings'], analyse_df['actual_rankings'])[0])\n",
    "\n",
    "print('coeficients')\n",
    "for coefficient in coefficient_results:\n",
    "    print(coefficient)\n",
    "print('klenditau output')\n",
    "for klenditau_output in kendalltau_results:\n",
    "    print(klenditau_output)\n",
    "print('section completed')\n"
   ]
  }
 ],
 "metadata": {
  "kernelspec": {
   "display_name": "Python 3",
   "language": "python",
   "name": "python3"
  },
  "language_info": {
   "codemirror_mode": {
    "name": "ipython",
    "version": 3
   },
   "file_extension": ".py",
   "mimetype": "text/x-python",
   "name": "python",
   "nbconvert_exporter": "python",
   "pygments_lexer": "ipython3",
   "version": "3.8.5"
  }
 },
 "nbformat": 4,
 "nbformat_minor": 4
}
