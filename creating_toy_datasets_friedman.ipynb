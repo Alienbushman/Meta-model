{
 "cells": [
  {
   "cell_type": "code",
   "execution_count": 1,
   "metadata": {},
   "outputs": [],
   "source": [
    "import numpy as np\n",
    "import numbers\n",
    "import os\n",
    "import pandas as pd"
   ]
  },
  {
   "cell_type": "code",
   "execution_count": 2,
   "metadata": {},
   "outputs": [],
   "source": [
    "def check_random_state(seed):\n",
    "    \"\"\"Turn seed into a np.random.RandomState instance\n",
    "    Parameters\n",
    "    ----------\n",
    "    seed : None | int | instance of RandomState\n",
    "        If seed is None, return the RandomState singleton used by np.random.\n",
    "        If seed is an int, return a new RandomState instance seeded with seed.\n",
    "        If seed is already a RandomState instance, return it.\n",
    "        Otherwise raise ValueError.\n",
    "    \"\"\"\n",
    "    if seed is None or seed is np.random:\n",
    "        return np.random.mtrand._rand\n",
    "    if isinstance(seed, numbers.Integral):\n",
    "        return np.random.RandomState(seed)\n",
    "    if isinstance(seed, np.random.RandomState):\n",
    "        return seed\n",
    "    raise ValueError('%r cannot be used to seed a numpy.random.RandomState'\n",
    "                     ' instance' % seed)"
   ]
  },
  {
   "cell_type": "code",
   "execution_count": 3,
   "metadata": {},
   "outputs": [],
   "source": [
    "\n",
    "def generate_friedmen_ranges(amount_breaks):\n",
    "    datasets_feature=[]\n",
    "    datasets_target=[]\n",
    "    for i in range(amount_breaks+1):\n",
    "        generator = check_random_state(i)\n",
    "        X = generator.rand(n_samples, 4)\n",
    "        X/=window_size\n",
    "        dataset_range = generate_X_values((X+i/amount_breaks*(window_size-1)/window_size))\n",
    "        if shift_dataset > 0:\n",
    "            dataset_range = generate_X_values(X)\n",
    "        datasets_feature.append(dataset_range)\n",
    "        datasets_target.append(generate_y(dataset_range,i))\n",
    "    return datasets_feature, datasets_target\n",
    "\n",
    "def generate_X_values(X):\n",
    "    X[:, 0] *= 100\n",
    "    X[:, 1] *= 520 * np.pi\n",
    "    X[:, 1] += 40 * np.pi\n",
    "    X[:, 3] *= 10\n",
    "    X[:, 3] += 1\n",
    "    return X\n",
    "\n",
    "def generate_y(X,i):\n",
    "    generator = check_random_state(i)\n",
    "    \n",
    "    y= np.arctan((X[:, 1] * X[:, 2] - 1 / (X[:, 1] * X[:, 3])) / X[:, 0]) + noise * generator.randn(n_samples)\n",
    "    \n",
    "    y+=i*shift_dataset\n",
    "    return y\n",
    "\n"
   ]
  },
  {
   "cell_type": "code",
   "execution_count": 4,
   "metadata": {},
   "outputs": [],
   "source": [
    "n_samples=10000\n",
    "random_state=42\n",
    "np.random.seed(random_state)\n",
    "amount_datasets=10\n",
    "noise=0.1\n",
    "window_size=2\n",
    "shift_dataset=0\n",
    "\n",
    "X,y = generate_friedmen_ranges(amount_datasets)\n",
    "\n",
    "\n",
    "all_datasets=[]\n",
    "for data, target in zip (X,y):\n",
    "    dataset = pd.DataFrame({'0': data[:, 0], '1': data[:, 1],'2': data[:, 2], '3': data[:, 3]})\n",
    "    dataset['target']=target\n",
    "    all_datasets.append(dataset)\n",
    "dataset_name='friedman_10'\n",
    "if(noise>0):\n",
    "    dataset_name+='_noise_'+str(noise)\n",
    "if(window_size>0):\n",
    "    dataset_name+='_window_size_'+str(window_size)\n",
    "if(shift_dataset>0):\n",
    "    dataset_name+='_shift_dataset_'+str(shift_dataset)\n",
    "directory='toy_datasets/'+dataset_name\n",
    "if not os.path.exists(directory):\n",
    "    os.makedirs(directory)\n",
    "for i in range(amount_datasets+1):\n",
    "    all_datasets[i].to_csv(directory+'/'+dataset_name+'_seed_'+str(i)+'.csv')"
   ]
  },
  {
   "cell_type": "code",
   "execution_count": null,
   "metadata": {},
   "outputs": [],
   "source": [
    "\n",
    "\n",
    "\n"
   ]
  },
  {
   "cell_type": "code",
   "execution_count": null,
   "metadata": {},
   "outputs": [],
   "source": []
  }
 ],
 "metadata": {
  "kernelspec": {
   "display_name": "Python 3",
   "language": "python",
   "name": "python3"
  },
  "language_info": {
   "codemirror_mode": {
    "name": "ipython",
    "version": 3
   },
   "file_extension": ".py",
   "mimetype": "text/x-python",
   "name": "python",
   "nbconvert_exporter": "python",
   "pygments_lexer": "ipython3",
   "version": "3.8.5"
  }
 },
 "nbformat": 4,
 "nbformat_minor": 4
}
